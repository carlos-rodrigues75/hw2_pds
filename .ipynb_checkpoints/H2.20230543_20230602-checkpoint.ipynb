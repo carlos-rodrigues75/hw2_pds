{
 "cells": [
  {
   "cell_type": "markdown",
   "metadata": {},
   "source": [
    "# Programming for Data Science 2023\n",
    "## Homework Assigment Two\n",
    "Homework activities aim at testing not only your ability to put into practice the concepts you have learned during the Lectures and Labs, but also your ability to explore the Python documentation as a resource. Above all, it is an opportunity for you to challenge yourself and practice. If you are having difficulties with the assignment reach out for support."
   ]
  },
  {
   "cell_type": "markdown",
   "metadata": {},
   "source": [
    "### Description\n",
    "\n",
    "This homework assignment will test your capacity to **load and manipulate data with Pandas**. \n",
    "    \n",
    "The goal is to develop intuition on filtering, arranging, and merging data, which will be useful for the next homework assignments.<br/>\n",
    "Fill the empty cells with your code and deliver a copy of this notebook to Moodle. <br/>\n",
    "    \n",
    "Your submission will be graded according to the following guidelines:\n",
    "1. **Execution** (does your program does what is asked from the exercise?\n",
    "2. **Objectivity** (are you using the adequate libraries? are you using a library ... )\n",
    "3. **Readability** of your code (including comments, variables naming, supporting text, etc ...)\n",
    "\n",
    "<b>Comment your code properly, which includes naming your variables in a meaningful manner. Badly documented code will be penalized.</b>\n",
    "\n",
    "This assignment is to be done in pairs, as in the first one, but remember that **you can't have the same pair as you had in Homework 1**. \n",
    "\n",
    "**Students that are caught cheating will obtain a score of 0 points.** <br>\n",
    "\n",
    "Homework 2 is worth 25% of your final grade.    \n",
    "\n",
    "The submission package should correspond to a .zip archive (.rar files are not accepted) with the following files:\n",
    "1. Jupyter Notebook with the output of all the cells;\n",
    "2. HTML print of your Jupyter Notebook (in Jupyter go to File -> Download as -> HTML);\n",
    "3. All text or .csv files are exported as part of the exercises. Please don't upload the files downloaded/imported as part of the exercises.\n",
    "\n",
    "**Please change the name of the notebook to \"H2.\\<student_1_id\\>_\\<student_2_id\\>.ipynb\", replacing \\<student_id\\> by your student_id.** <br>\n",
    "\n",
    "Submission is done through the respective Moodle activity, and only one of the group members has to submit the files. <br>\n",
    "The deadline is the **12th of October at 23:59**. <br>\n",
    "A penalty of 1 point per day late will be applied to late deliveries. <br>\n",
    "**In this notebook, you are allowed to use Pandas and Numpy.**"
   ]
  },
  {
   "cell_type": "code",
   "execution_count": 1,
   "metadata": {
    "ExecuteTime": {
     "end_time": "2023-10-08T15:48:53.578940Z",
     "start_time": "2023-10-08T15:48:53.237838Z"
    }
   },
   "outputs": [],
   "source": [
    "import numpy as np\n",
    "import scipy\n",
    "import pandas as pd"
   ]
  },
  {
   "cell_type": "markdown",
   "metadata": {},
   "source": [
    "# <span style=\"color:brown\"> Start Here </span> \n",
    "\n",
    "[Please Complete the following form with your details]\n",
    "\n",
    "Student Name - Carlos Eduardo Rodrigues da Costa<br>\n",
    "Student id - 20230543<br>\n",
    "Contact e-mail - 20230543@novaims.unl.pt<br>\n",
    "\n",
    "\n",
    "Student Name - David Gustavo Guarin Rojas<br>\n",
    "Student id - 20230602<br>\n",
    "Contact e-mail - 20230602@novaims.unl.pt<br>"
   ]
  },
  {
   "cell_type": "markdown",
   "metadata": {},
   "source": [
    "# <span style=\"color:brown\"> Part 1 - Get the Data </span>"
   ]
  },
  {
   "cell_type": "markdown",
   "metadata": {},
   "source": [
    "## Download and Load the World Development Indicators Dataset\n",
    "\n",
    "We will work with the **World Development Indicators dataset**, which should be downloaded from the world bank databank.<br/>\n",
    "Hence, the very first step is to download the data to your computer, you can do this by running the cell below. <br/>\n",
    "\n",
    "**NOTE** This cell may timeout on slower connections. If you receive an error you will need to download the file manually by pasting the URL into your browser. After downloading the zip archive you will need to move it to the same folder as this notebook and then unzip it to have acees to the required files.\n",
    "\n",
    "Alternatively you can copy and paste the url inside the .get() method into your browser."
   ]
  },
  {
   "cell_type": "code",
   "execution_count": 2,
   "metadata": {
    "ExecuteTime": {
     "end_time": "2023-10-08T15:46:23.481170Z",
     "start_time": "2023-10-08T15:46:17.213068Z"
    }
   },
   "outputs": [],
   "source": [
    "# importing libraries\n",
    "import requests, zipfile, io\n",
    "\n",
    "#note this can take several minutes depending on your internet connection\n",
    "r = requests.get('http://databank.worldbank.org/data/download/WDI_csv.zip')\n",
    "z = zipfile.ZipFile(io.BytesIO(r.content))\n",
    "z.extractall()\n",
    "\n",
    "# let us free the variales we used above\n",
    "del z\n",
    "del r"
   ]
  },
  {
   "cell_type": "markdown",
   "metadata": {},
   "source": [
    "*The above code downloads a zip archive to the working folder, which by default is the the location of this notebook in your computer. <br/>\n",
    "Secondly, and since the document downloaded is a zip archive, it extracts the documents from the archive. <br/> \n",
    "The contents include multiple .csv files, however we will be working only with the document 'WDIData.csv'. <br/>*\n",
    "\n",
    "**1.** In the cell bellow, use Pandas to open the file \"WDIData.csv\" and **save** it to a variable called **wdi**.<br/>\n",
    "\n",
    "**NOTE** If you see strange characters in the headings or text you may need to specify the option enconding, \"ISO-8859-1\" has worked previously.\n",
    "Find more information at https://pandas.pydata.org/pandas-docs/stable/generated/pandas.read_csv.html"
   ]
  },
  {
   "cell_type": "code",
   "execution_count": 3,
   "metadata": {
    "ExecuteTime": {
     "end_time": "2023-10-08T15:49:01.071563Z",
     "start_time": "2023-10-08T15:48:59.867847Z"
    }
   },
   "outputs": [],
   "source": [
    "wdi = pd.read_csv(\"./WDIData.csv\")"
   ]
  },
  {
   "cell_type": "markdown",
   "metadata": {},
   "source": [
    "**2.** Check the top of the dataframe to ensure it loaded correctly."
   ]
  },
  {
   "cell_type": "code",
   "execution_count": 4,
   "metadata": {
    "ExecuteTime": {
     "end_time": "2023-10-08T15:49:11.322302Z",
     "start_time": "2023-10-08T15:49:11.306739Z"
    }
   },
   "outputs": [
    {
     "data": {
      "text/html": [
       "<div>\n",
       "<style scoped>\n",
       "    .dataframe tbody tr th:only-of-type {\n",
       "        vertical-align: middle;\n",
       "    }\n",
       "\n",
       "    .dataframe tbody tr th {\n",
       "        vertical-align: top;\n",
       "    }\n",
       "\n",
       "    .dataframe thead th {\n",
       "        text-align: right;\n",
       "    }\n",
       "</style>\n",
       "<table border=\"1\" class=\"dataframe\">\n",
       "  <thead>\n",
       "    <tr style=\"text-align: right;\">\n",
       "      <th></th>\n",
       "      <th>Country Name</th>\n",
       "      <th>Country Code</th>\n",
       "      <th>Indicator Name</th>\n",
       "      <th>Indicator Code</th>\n",
       "      <th>1960</th>\n",
       "      <th>1961</th>\n",
       "      <th>1962</th>\n",
       "      <th>1963</th>\n",
       "      <th>1964</th>\n",
       "      <th>1965</th>\n",
       "      <th>...</th>\n",
       "      <th>2013</th>\n",
       "      <th>2014</th>\n",
       "      <th>2015</th>\n",
       "      <th>2016</th>\n",
       "      <th>2017</th>\n",
       "      <th>2018</th>\n",
       "      <th>2019</th>\n",
       "      <th>2020</th>\n",
       "      <th>2021</th>\n",
       "      <th>Unnamed: 66</th>\n",
       "    </tr>\n",
       "  </thead>\n",
       "  <tbody>\n",
       "    <tr>\n",
       "      <th>0</th>\n",
       "      <td>Africa Eastern and Southern</td>\n",
       "      <td>AFE</td>\n",
       "      <td>Access to clean fuels and technologies for coo...</td>\n",
       "      <td>EG.CFT.ACCS.ZS</td>\n",
       "      <td>NaN</td>\n",
       "      <td>NaN</td>\n",
       "      <td>NaN</td>\n",
       "      <td>NaN</td>\n",
       "      <td>NaN</td>\n",
       "      <td>NaN</td>\n",
       "      <td>...</td>\n",
       "      <td>16.789043</td>\n",
       "      <td>17.196986</td>\n",
       "      <td>17.597176</td>\n",
       "      <td>18.034249</td>\n",
       "      <td>18.345878</td>\n",
       "      <td>18.695306</td>\n",
       "      <td>19.149942</td>\n",
       "      <td>19.501837</td>\n",
       "      <td>NaN</td>\n",
       "      <td>NaN</td>\n",
       "    </tr>\n",
       "    <tr>\n",
       "      <th>1</th>\n",
       "      <td>Africa Eastern and Southern</td>\n",
       "      <td>AFE</td>\n",
       "      <td>Access to clean fuels and technologies for coo...</td>\n",
       "      <td>EG.CFT.ACCS.RU.ZS</td>\n",
       "      <td>NaN</td>\n",
       "      <td>NaN</td>\n",
       "      <td>NaN</td>\n",
       "      <td>NaN</td>\n",
       "      <td>NaN</td>\n",
       "      <td>NaN</td>\n",
       "      <td>...</td>\n",
       "      <td>6.397917</td>\n",
       "      <td>6.580066</td>\n",
       "      <td>6.786218</td>\n",
       "      <td>6.941323</td>\n",
       "      <td>7.096843</td>\n",
       "      <td>7.254828</td>\n",
       "      <td>7.460783</td>\n",
       "      <td>7.599289</td>\n",
       "      <td>NaN</td>\n",
       "      <td>NaN</td>\n",
       "    </tr>\n",
       "    <tr>\n",
       "      <th>2</th>\n",
       "      <td>Africa Eastern and Southern</td>\n",
       "      <td>AFE</td>\n",
       "      <td>Access to clean fuels and technologies for coo...</td>\n",
       "      <td>EG.CFT.ACCS.UR.ZS</td>\n",
       "      <td>NaN</td>\n",
       "      <td>NaN</td>\n",
       "      <td>NaN</td>\n",
       "      <td>NaN</td>\n",
       "      <td>NaN</td>\n",
       "      <td>NaN</td>\n",
       "      <td>...</td>\n",
       "      <td>37.660864</td>\n",
       "      <td>37.857526</td>\n",
       "      <td>38.204173</td>\n",
       "      <td>38.303515</td>\n",
       "      <td>38.421813</td>\n",
       "      <td>38.482409</td>\n",
       "      <td>38.692053</td>\n",
       "      <td>38.793983</td>\n",
       "      <td>NaN</td>\n",
       "      <td>NaN</td>\n",
       "    </tr>\n",
       "    <tr>\n",
       "      <th>3</th>\n",
       "      <td>Africa Eastern and Southern</td>\n",
       "      <td>AFE</td>\n",
       "      <td>Access to electricity (% of population)</td>\n",
       "      <td>EG.ELC.ACCS.ZS</td>\n",
       "      <td>NaN</td>\n",
       "      <td>NaN</td>\n",
       "      <td>NaN</td>\n",
       "      <td>NaN</td>\n",
       "      <td>NaN</td>\n",
       "      <td>NaN</td>\n",
       "      <td>...</td>\n",
       "      <td>31.610692</td>\n",
       "      <td>31.824950</td>\n",
       "      <td>33.744405</td>\n",
       "      <td>38.733352</td>\n",
       "      <td>40.092163</td>\n",
       "      <td>42.880977</td>\n",
       "      <td>44.073912</td>\n",
       "      <td>45.609604</td>\n",
       "      <td>NaN</td>\n",
       "      <td>NaN</td>\n",
       "    </tr>\n",
       "    <tr>\n",
       "      <th>4</th>\n",
       "      <td>Africa Eastern and Southern</td>\n",
       "      <td>AFE</td>\n",
       "      <td>Access to electricity, rural (% of rural popul...</td>\n",
       "      <td>EG.ELC.ACCS.RU.ZS</td>\n",
       "      <td>NaN</td>\n",
       "      <td>NaN</td>\n",
       "      <td>NaN</td>\n",
       "      <td>NaN</td>\n",
       "      <td>NaN</td>\n",
       "      <td>NaN</td>\n",
       "      <td>...</td>\n",
       "      <td>18.535523</td>\n",
       "      <td>17.485006</td>\n",
       "      <td>16.329765</td>\n",
       "      <td>24.372504</td>\n",
       "      <td>25.153292</td>\n",
       "      <td>27.227391</td>\n",
       "      <td>29.383000</td>\n",
       "      <td>30.163364</td>\n",
       "      <td>NaN</td>\n",
       "      <td>NaN</td>\n",
       "    </tr>\n",
       "  </tbody>\n",
       "</table>\n",
       "<p>5 rows × 67 columns</p>\n",
       "</div>"
      ],
      "text/plain": [
       "                  Country Name Country Code  \\\n",
       "0  Africa Eastern and Southern          AFE   \n",
       "1  Africa Eastern and Southern          AFE   \n",
       "2  Africa Eastern and Southern          AFE   \n",
       "3  Africa Eastern and Southern          AFE   \n",
       "4  Africa Eastern and Southern          AFE   \n",
       "\n",
       "                                      Indicator Name     Indicator Code  1960  \\\n",
       "0  Access to clean fuels and technologies for coo...     EG.CFT.ACCS.ZS   NaN   \n",
       "1  Access to clean fuels and technologies for coo...  EG.CFT.ACCS.RU.ZS   NaN   \n",
       "2  Access to clean fuels and technologies for coo...  EG.CFT.ACCS.UR.ZS   NaN   \n",
       "3            Access to electricity (% of population)     EG.ELC.ACCS.ZS   NaN   \n",
       "4  Access to electricity, rural (% of rural popul...  EG.ELC.ACCS.RU.ZS   NaN   \n",
       "\n",
       "   1961  1962  1963  1964  1965  ...       2013       2014       2015  \\\n",
       "0   NaN   NaN   NaN   NaN   NaN  ...  16.789043  17.196986  17.597176   \n",
       "1   NaN   NaN   NaN   NaN   NaN  ...   6.397917   6.580066   6.786218   \n",
       "2   NaN   NaN   NaN   NaN   NaN  ...  37.660864  37.857526  38.204173   \n",
       "3   NaN   NaN   NaN   NaN   NaN  ...  31.610692  31.824950  33.744405   \n",
       "4   NaN   NaN   NaN   NaN   NaN  ...  18.535523  17.485006  16.329765   \n",
       "\n",
       "        2016       2017       2018       2019       2020  2021  Unnamed: 66  \n",
       "0  18.034249  18.345878  18.695306  19.149942  19.501837   NaN          NaN  \n",
       "1   6.941323   7.096843   7.254828   7.460783   7.599289   NaN          NaN  \n",
       "2  38.303515  38.421813  38.482409  38.692053  38.793983   NaN          NaN  \n",
       "3  38.733352  40.092163  42.880977  44.073912  45.609604   NaN          NaN  \n",
       "4  24.372504  25.153292  27.227391  29.383000  30.163364   NaN          NaN  \n",
       "\n",
       "[5 rows x 67 columns]"
      ]
     },
     "execution_count": 4,
     "metadata": {},
     "output_type": "execute_result"
    }
   ],
   "source": [
    "wdi.head()"
   ]
  },
  {
   "cell_type": "markdown",
   "metadata": {},
   "source": [
    "## Download and Load the Penn World Table V9.0\n",
    "\n",
    "We will additionally use data from the pwt v9.0 tables. <br/> \n",
    "\n",
    "Again **run the following cell to download the dataset**. This time using the library urllib."
   ]
  },
  {
   "cell_type": "code",
   "execution_count": 5,
   "metadata": {
    "ExecuteTime": {
     "end_time": "2023-10-08T15:49:54.383836Z",
     "start_time": "2023-10-08T15:49:47.155832Z"
    }
   },
   "outputs": [
    {
     "data": {
      "text/plain": [
       "('pwt90.xlsx', <http.client.HTTPMessage at 0x2289231ef50>)"
      ]
     },
     "execution_count": 5,
     "metadata": {},
     "output_type": "execute_result"
    }
   ],
   "source": [
    "import urllib\n",
    "urllib.request.urlretrieve(\"https://www.rug.nl/ggdc/docs/pwt90.xlsx\", \"pwt90.xlsx\")"
   ]
  },
  {
   "cell_type": "markdown",
   "metadata": {},
   "source": [
    "**3.** In the following cell, open and read the file 'pwt90.xlsx' and **save** it into variable **pwt**. <br/>"
   ]
  },
  {
   "cell_type": "code",
   "execution_count": 6,
   "metadata": {
    "ExecuteTime": {
     "end_time": "2023-10-08T15:53:01.303446Z",
     "start_time": "2023-10-08T15:52:59.153272Z"
    }
   },
   "outputs": [],
   "source": [
    "pwt = pd.read_excel(\"pwt90.xlsx\", sheet_name=\"Data\")"
   ]
  },
  {
   "cell_type": "markdown",
   "metadata": {},
   "source": [
    "**4.** Check the top of the dataframe to ensure it was loaded correctly."
   ]
  },
  {
   "cell_type": "code",
   "execution_count": 7,
   "metadata": {
    "ExecuteTime": {
     "end_time": "2023-10-08T15:53:05.119042Z",
     "start_time": "2023-10-08T15:53:05.098946Z"
    },
    "scrolled": true
   },
   "outputs": [
    {
     "data": {
      "text/html": [
       "<div>\n",
       "<style scoped>\n",
       "    .dataframe tbody tr th:only-of-type {\n",
       "        vertical-align: middle;\n",
       "    }\n",
       "\n",
       "    .dataframe tbody tr th {\n",
       "        vertical-align: top;\n",
       "    }\n",
       "\n",
       "    .dataframe thead th {\n",
       "        text-align: right;\n",
       "    }\n",
       "</style>\n",
       "<table border=\"1\" class=\"dataframe\">\n",
       "  <thead>\n",
       "    <tr style=\"text-align: right;\">\n",
       "      <th></th>\n",
       "      <th>countrycode</th>\n",
       "      <th>country</th>\n",
       "      <th>currency_unit</th>\n",
       "      <th>year</th>\n",
       "      <th>rgdpe</th>\n",
       "      <th>rgdpo</th>\n",
       "      <th>pop</th>\n",
       "      <th>emp</th>\n",
       "      <th>avh</th>\n",
       "      <th>hc</th>\n",
       "      <th>...</th>\n",
       "      <th>csh_g</th>\n",
       "      <th>csh_x</th>\n",
       "      <th>csh_m</th>\n",
       "      <th>csh_r</th>\n",
       "      <th>pl_c</th>\n",
       "      <th>pl_i</th>\n",
       "      <th>pl_g</th>\n",
       "      <th>pl_x</th>\n",
       "      <th>pl_m</th>\n",
       "      <th>pl_k</th>\n",
       "    </tr>\n",
       "  </thead>\n",
       "  <tbody>\n",
       "    <tr>\n",
       "      <th>0</th>\n",
       "      <td>ABW</td>\n",
       "      <td>Aruba</td>\n",
       "      <td>Aruban Guilder</td>\n",
       "      <td>1950</td>\n",
       "      <td>NaN</td>\n",
       "      <td>NaN</td>\n",
       "      <td>NaN</td>\n",
       "      <td>NaN</td>\n",
       "      <td>NaN</td>\n",
       "      <td>NaN</td>\n",
       "      <td>...</td>\n",
       "      <td>NaN</td>\n",
       "      <td>NaN</td>\n",
       "      <td>NaN</td>\n",
       "      <td>NaN</td>\n",
       "      <td>NaN</td>\n",
       "      <td>NaN</td>\n",
       "      <td>NaN</td>\n",
       "      <td>NaN</td>\n",
       "      <td>NaN</td>\n",
       "      <td>NaN</td>\n",
       "    </tr>\n",
       "    <tr>\n",
       "      <th>1</th>\n",
       "      <td>ABW</td>\n",
       "      <td>Aruba</td>\n",
       "      <td>Aruban Guilder</td>\n",
       "      <td>1951</td>\n",
       "      <td>NaN</td>\n",
       "      <td>NaN</td>\n",
       "      <td>NaN</td>\n",
       "      <td>NaN</td>\n",
       "      <td>NaN</td>\n",
       "      <td>NaN</td>\n",
       "      <td>...</td>\n",
       "      <td>NaN</td>\n",
       "      <td>NaN</td>\n",
       "      <td>NaN</td>\n",
       "      <td>NaN</td>\n",
       "      <td>NaN</td>\n",
       "      <td>NaN</td>\n",
       "      <td>NaN</td>\n",
       "      <td>NaN</td>\n",
       "      <td>NaN</td>\n",
       "      <td>NaN</td>\n",
       "    </tr>\n",
       "    <tr>\n",
       "      <th>2</th>\n",
       "      <td>ABW</td>\n",
       "      <td>Aruba</td>\n",
       "      <td>Aruban Guilder</td>\n",
       "      <td>1952</td>\n",
       "      <td>NaN</td>\n",
       "      <td>NaN</td>\n",
       "      <td>NaN</td>\n",
       "      <td>NaN</td>\n",
       "      <td>NaN</td>\n",
       "      <td>NaN</td>\n",
       "      <td>...</td>\n",
       "      <td>NaN</td>\n",
       "      <td>NaN</td>\n",
       "      <td>NaN</td>\n",
       "      <td>NaN</td>\n",
       "      <td>NaN</td>\n",
       "      <td>NaN</td>\n",
       "      <td>NaN</td>\n",
       "      <td>NaN</td>\n",
       "      <td>NaN</td>\n",
       "      <td>NaN</td>\n",
       "    </tr>\n",
       "    <tr>\n",
       "      <th>3</th>\n",
       "      <td>ABW</td>\n",
       "      <td>Aruba</td>\n",
       "      <td>Aruban Guilder</td>\n",
       "      <td>1953</td>\n",
       "      <td>NaN</td>\n",
       "      <td>NaN</td>\n",
       "      <td>NaN</td>\n",
       "      <td>NaN</td>\n",
       "      <td>NaN</td>\n",
       "      <td>NaN</td>\n",
       "      <td>...</td>\n",
       "      <td>NaN</td>\n",
       "      <td>NaN</td>\n",
       "      <td>NaN</td>\n",
       "      <td>NaN</td>\n",
       "      <td>NaN</td>\n",
       "      <td>NaN</td>\n",
       "      <td>NaN</td>\n",
       "      <td>NaN</td>\n",
       "      <td>NaN</td>\n",
       "      <td>NaN</td>\n",
       "    </tr>\n",
       "    <tr>\n",
       "      <th>4</th>\n",
       "      <td>ABW</td>\n",
       "      <td>Aruba</td>\n",
       "      <td>Aruban Guilder</td>\n",
       "      <td>1954</td>\n",
       "      <td>NaN</td>\n",
       "      <td>NaN</td>\n",
       "      <td>NaN</td>\n",
       "      <td>NaN</td>\n",
       "      <td>NaN</td>\n",
       "      <td>NaN</td>\n",
       "      <td>...</td>\n",
       "      <td>NaN</td>\n",
       "      <td>NaN</td>\n",
       "      <td>NaN</td>\n",
       "      <td>NaN</td>\n",
       "      <td>NaN</td>\n",
       "      <td>NaN</td>\n",
       "      <td>NaN</td>\n",
       "      <td>NaN</td>\n",
       "      <td>NaN</td>\n",
       "      <td>NaN</td>\n",
       "    </tr>\n",
       "  </tbody>\n",
       "</table>\n",
       "<p>5 rows × 47 columns</p>\n",
       "</div>"
      ],
      "text/plain": [
       "  countrycode country   currency_unit  year  rgdpe  rgdpo  pop  emp  avh  hc  \\\n",
       "0         ABW   Aruba  Aruban Guilder  1950    NaN    NaN  NaN  NaN  NaN NaN   \n",
       "1         ABW   Aruba  Aruban Guilder  1951    NaN    NaN  NaN  NaN  NaN NaN   \n",
       "2         ABW   Aruba  Aruban Guilder  1952    NaN    NaN  NaN  NaN  NaN NaN   \n",
       "3         ABW   Aruba  Aruban Guilder  1953    NaN    NaN  NaN  NaN  NaN NaN   \n",
       "4         ABW   Aruba  Aruban Guilder  1954    NaN    NaN  NaN  NaN  NaN NaN   \n",
       "\n",
       "   ...  csh_g  csh_x  csh_m  csh_r  pl_c  pl_i  pl_g  pl_x  pl_m  pl_k  \n",
       "0  ...    NaN    NaN    NaN    NaN   NaN   NaN   NaN   NaN   NaN   NaN  \n",
       "1  ...    NaN    NaN    NaN    NaN   NaN   NaN   NaN   NaN   NaN   NaN  \n",
       "2  ...    NaN    NaN    NaN    NaN   NaN   NaN   NaN   NaN   NaN   NaN  \n",
       "3  ...    NaN    NaN    NaN    NaN   NaN   NaN   NaN   NaN   NaN   NaN  \n",
       "4  ...    NaN    NaN    NaN    NaN   NaN   NaN   NaN   NaN   NaN   NaN  \n",
       "\n",
       "[5 rows x 47 columns]"
      ]
     },
     "execution_count": 7,
     "metadata": {},
     "output_type": "execute_result"
    }
   ],
   "source": [
    "pwt.head()"
   ]
  },
  {
   "cell_type": "markdown",
   "metadata": {},
   "source": [
    "# <span style=\"color:brown\"> Part 2 - Data Processing </span>"
   ]
  },
  {
   "cell_type": "markdown",
   "metadata": {},
   "source": [
    "## Data Wrangling\n",
    "\n",
    "Now that we have loaded our data we are ready to start playing with it. <br/>\n",
    "\n",
    "**5.** Start by printing all the column values in the cell bellow."
   ]
  },
  {
   "cell_type": "code",
   "execution_count": 8,
   "metadata": {
    "ExecuteTime": {
     "end_time": "2023-10-08T15:54:36.114930Z",
     "start_time": "2023-10-08T15:54:36.081205Z"
    }
   },
   "outputs": [
    {
     "data": {
      "text/plain": [
       "Index(['Country Name', 'Country Code', 'Indicator Name', 'Indicator Code',\n",
       "       '1960', '1961', '1962', '1963', '1964', '1965', '1966', '1967', '1968',\n",
       "       '1969', '1970', '1971', '1972', '1973', '1974', '1975', '1976', '1977',\n",
       "       '1978', '1979', '1980', '1981', '1982', '1983', '1984', '1985', '1986',\n",
       "       '1987', '1988', '1989', '1990', '1991', '1992', '1993', '1994', '1995',\n",
       "       '1996', '1997', '1998', '1999', '2000', '2001', '2002', '2003', '2004',\n",
       "       '2005', '2006', '2007', '2008', '2009', '2010', '2011', '2012', '2013',\n",
       "       '2014', '2015', '2016', '2017', '2018', '2019', '2020', '2021',\n",
       "       'Unnamed: 66'],\n",
       "      dtype='object')"
      ]
     },
     "execution_count": 8,
     "metadata": {},
     "output_type": "execute_result"
    }
   ],
   "source": [
    "wdi.columns"
   ]
  },
  {
   "cell_type": "markdown",
   "metadata": {},
   "source": [
    "**6.** List the values in the column 'Country Name'.You will get a list with repeated values, **delete all duplicates** to ease your analysis. <br/>\n",
    "\n",
    "*Tip: There is a method in the pandas library that allows to do this easily.*"
   ]
  },
  {
   "cell_type": "code",
   "execution_count": 9,
   "metadata": {
    "ExecuteTime": {
     "end_time": "2023-10-08T15:55:03.362286Z",
     "start_time": "2023-10-08T15:55:03.346792Z"
    },
    "scrolled": true
   },
   "outputs": [
    {
     "data": {
      "text/plain": [
       "array(['Africa Eastern and Southern', 'Africa Western and Central',\n",
       "       'Arab World', 'Caribbean small states',\n",
       "       'Central Europe and the Baltics', 'Early-demographic dividend',\n",
       "       'East Asia & Pacific',\n",
       "       'East Asia & Pacific (excluding high income)',\n",
       "       'East Asia & Pacific (IDA & IBRD countries)', 'Euro area',\n",
       "       'Europe & Central Asia',\n",
       "       'Europe & Central Asia (excluding high income)',\n",
       "       'Europe & Central Asia (IDA & IBRD countries)', 'European Union',\n",
       "       'Fragile and conflict affected situations',\n",
       "       'Heavily indebted poor countries (HIPC)', 'High income',\n",
       "       'IBRD only', 'IDA & IBRD total', 'IDA blend', 'IDA only',\n",
       "       'IDA total', 'Late-demographic dividend',\n",
       "       'Latin America & Caribbean',\n",
       "       'Latin America & Caribbean (excluding high income)',\n",
       "       'Latin America & the Caribbean (IDA & IBRD countries)',\n",
       "       'Least developed countries: UN classification',\n",
       "       'Low & middle income', 'Low income', 'Lower middle income',\n",
       "       'Middle East & North Africa',\n",
       "       'Middle East & North Africa (excluding high income)',\n",
       "       'Middle East & North Africa (IDA & IBRD countries)',\n",
       "       'Middle income', 'North America', 'Not classified', 'OECD members',\n",
       "       'Other small states', 'Pacific island small states',\n",
       "       'Post-demographic dividend', 'Pre-demographic dividend',\n",
       "       'Small states', 'South Asia', 'South Asia (IDA & IBRD)',\n",
       "       'Sub-Saharan Africa', 'Sub-Saharan Africa (excluding high income)',\n",
       "       'Sub-Saharan Africa (IDA & IBRD countries)', 'Upper middle income',\n",
       "       'World', 'Afghanistan', 'Albania', 'Algeria', 'American Samoa',\n",
       "       'Andorra', 'Angola', 'Antigua and Barbuda', 'Argentina', 'Armenia',\n",
       "       'Aruba', 'Australia', 'Austria', 'Azerbaijan', 'Bahamas, The',\n",
       "       'Bahrain', 'Bangladesh', 'Barbados', 'Belarus', 'Belgium',\n",
       "       'Belize', 'Benin', 'Bermuda', 'Bhutan', 'Bolivia',\n",
       "       'Bosnia and Herzegovina', 'Botswana', 'Brazil',\n",
       "       'British Virgin Islands', 'Brunei Darussalam', 'Bulgaria',\n",
       "       'Burkina Faso', 'Burundi', 'Cabo Verde', 'Cambodia', 'Cameroon',\n",
       "       'Canada', 'Cayman Islands', 'Central African Republic', 'Chad',\n",
       "       'Channel Islands', 'Chile', 'China', 'Colombia', 'Comoros',\n",
       "       'Congo, Dem. Rep.', 'Congo, Rep.', 'Costa Rica', \"Cote d'Ivoire\",\n",
       "       'Croatia', 'Cuba', 'Curacao', 'Cyprus', 'Czechia', 'Denmark',\n",
       "       'Djibouti', 'Dominica', 'Dominican Republic', 'Ecuador',\n",
       "       'Egypt, Arab Rep.', 'El Salvador', 'Equatorial Guinea', 'Eritrea',\n",
       "       'Estonia', 'Eswatini', 'Ethiopia', 'Faroe Islands', 'Fiji',\n",
       "       'Finland', 'France', 'French Polynesia', 'Gabon', 'Gambia, The',\n",
       "       'Georgia', 'Germany', 'Ghana', 'Gibraltar', 'Greece', 'Greenland',\n",
       "       'Grenada', 'Guam', 'Guatemala', 'Guinea', 'Guinea-Bissau',\n",
       "       'Guyana', 'Haiti', 'Honduras', 'Hong Kong SAR, China', 'Hungary',\n",
       "       'Iceland', 'India', 'Indonesia', 'Iran, Islamic Rep.', 'Iraq',\n",
       "       'Ireland', 'Isle of Man', 'Israel', 'Italy', 'Jamaica', 'Japan',\n",
       "       'Jordan', 'Kazakhstan', 'Kenya', 'Kiribati',\n",
       "       \"Korea, Dem. People's Rep.\", 'Korea, Rep.', 'Kosovo', 'Kuwait',\n",
       "       'Kyrgyz Republic', 'Lao PDR', 'Latvia', 'Lebanon', 'Lesotho',\n",
       "       'Liberia', 'Libya', 'Liechtenstein', 'Lithuania', 'Luxembourg',\n",
       "       'Macao SAR, China', 'Madagascar', 'Malawi', 'Malaysia', 'Maldives',\n",
       "       'Mali', 'Malta', 'Marshall Islands', 'Mauritania', 'Mauritius',\n",
       "       'Mexico', 'Micronesia, Fed. Sts.', 'Moldova', 'Monaco', 'Mongolia',\n",
       "       'Montenegro', 'Morocco', 'Mozambique', 'Myanmar', 'Namibia',\n",
       "       'Nauru', 'Nepal', 'Netherlands', 'New Caledonia', 'New Zealand',\n",
       "       'Nicaragua', 'Niger', 'Nigeria', 'North Macedonia',\n",
       "       'Northern Mariana Islands', 'Norway', 'Oman', 'Pakistan', 'Palau',\n",
       "       'Panama', 'Papua New Guinea', 'Paraguay', 'Peru', 'Philippines',\n",
       "       'Poland', 'Portugal', 'Puerto Rico', 'Qatar', 'Romania',\n",
       "       'Russian Federation', 'Rwanda', 'Samoa', 'San Marino',\n",
       "       'Sao Tome and Principe', 'Saudi Arabia', 'Senegal', 'Serbia',\n",
       "       'Seychelles', 'Sierra Leone', 'Singapore',\n",
       "       'Sint Maarten (Dutch part)', 'Slovak Republic', 'Slovenia',\n",
       "       'Solomon Islands', 'Somalia', 'South Africa', 'South Sudan',\n",
       "       'Spain', 'Sri Lanka', 'St. Kitts and Nevis', 'St. Lucia',\n",
       "       'St. Martin (French part)', 'St. Vincent and the Grenadines',\n",
       "       'Sudan', 'Suriname', 'Sweden', 'Switzerland',\n",
       "       'Syrian Arab Republic', 'Tajikistan', 'Tanzania', 'Thailand',\n",
       "       'Timor-Leste', 'Togo', 'Tonga', 'Trinidad and Tobago', 'Tunisia',\n",
       "       'Turkiye', 'Turkmenistan', 'Turks and Caicos Islands', 'Tuvalu',\n",
       "       'Uganda', 'Ukraine', 'United Arab Emirates', 'United Kingdom',\n",
       "       'United States', 'Uruguay', 'Uzbekistan', 'Vanuatu',\n",
       "       'Venezuela, RB', 'Vietnam', 'Virgin Islands (U.S.)',\n",
       "       'West Bank and Gaza', 'Yemen, Rep.', 'Zambia', 'Zimbabwe'],\n",
       "      dtype=object)"
      ]
     },
     "execution_count": 9,
     "metadata": {},
     "output_type": "execute_result"
    }
   ],
   "source": [
    "wdi['Country Name'].unique()"
   ]
  },
  {
   "cell_type": "markdown",
   "metadata": {},
   "source": [
    "You might notice that while the bottom rows represent Countries, the top rows represent aggregates of countries (e.g., world regions). <br/> However we are only interested in **working with country-level data**, and as such we need to filter out all the unnecessary rows."
   ]
  },
  {
   "cell_type": "markdown",
   "metadata": {},
   "source": [
    "**7.** Save all the values of column 'Country Name' in a variable called **cnames**. <br/>"
   ]
  },
  {
   "cell_type": "code",
   "execution_count": 10,
   "metadata": {
    "ExecuteTime": {
     "end_time": "2023-10-08T16:08:34.857012Z",
     "start_time": "2023-10-08T16:08:34.844005Z"
    }
   },
   "outputs": [],
   "source": [
    "cnames = wdi['Country Name']"
   ]
  },
  {
   "cell_type": "markdown",
   "metadata": {},
   "source": [
    "**7.1.** Delete all duplicate values.<br>"
   ]
  },
  {
   "cell_type": "code",
   "execution_count": 11,
   "metadata": {
    "ExecuteTime": {
     "end_time": "2023-10-08T16:08:37.401339Z",
     "start_time": "2023-10-08T16:08:37.394996Z"
    }
   },
   "outputs": [],
   "source": [
    "cnames = cnames.unique()\n"
   ]
  },
  {
   "cell_type": "markdown",
   "metadata": {},
   "source": [
    "**7.2.** Print the names that do not represent countries."
   ]
  },
  {
   "cell_type": "code",
   "execution_count": 12,
   "metadata": {
    "ExecuteTime": {
     "end_time": "2023-10-08T16:11:16.870816Z",
     "start_time": "2023-10-08T16:11:16.852443Z"
    }
   },
   "outputs": [
    {
     "data": {
      "text/plain": [
       "array(['Africa Eastern and Southern', 'Africa Western and Central',\n",
       "       'Arab World', 'Caribbean small states',\n",
       "       'Central Europe and the Baltics', 'Early-demographic dividend',\n",
       "       'East Asia & Pacific',\n",
       "       'East Asia & Pacific (excluding high income)',\n",
       "       'East Asia & Pacific (IDA & IBRD countries)', 'Euro area',\n",
       "       'Europe & Central Asia',\n",
       "       'Europe & Central Asia (excluding high income)',\n",
       "       'Europe & Central Asia (IDA & IBRD countries)', 'European Union',\n",
       "       'Fragile and conflict affected situations',\n",
       "       'Heavily indebted poor countries (HIPC)', 'High income',\n",
       "       'IBRD only', 'IDA & IBRD total', 'IDA blend', 'IDA only',\n",
       "       'IDA total', 'Late-demographic dividend',\n",
       "       'Latin America & Caribbean',\n",
       "       'Latin America & Caribbean (excluding high income)',\n",
       "       'Latin America & the Caribbean (IDA & IBRD countries)',\n",
       "       'Least developed countries: UN classification',\n",
       "       'Low & middle income', 'Low income', 'Lower middle income',\n",
       "       'Middle East & North Africa',\n",
       "       'Middle East & North Africa (excluding high income)',\n",
       "       'Middle East & North Africa (IDA & IBRD countries)',\n",
       "       'Middle income', 'North America', 'Not classified', 'OECD members',\n",
       "       'Other small states', 'Pacific island small states',\n",
       "       'Post-demographic dividend', 'Pre-demographic dividend',\n",
       "       'Small states', 'South Asia', 'South Asia (IDA & IBRD)',\n",
       "       'Sub-Saharan Africa', 'Sub-Saharan Africa (excluding high income)',\n",
       "       'Sub-Saharan Africa (IDA & IBRD countries)', 'Upper middle income',\n",
       "       'World'], dtype=object)"
      ]
     },
     "execution_count": 12,
     "metadata": {},
     "output_type": "execute_result"
    }
   ],
   "source": [
    "non_country_names = cnames[:49]\n",
    "non_country_names"
   ]
  },
  {
   "cell_type": "markdown",
   "metadata": {},
   "source": [
    "You can take advantage of the structure of the dataset to realize that aggregates (Continents, Regions, etc) are all located on the top of the series 'cnames'. Moreover, since the series is small you can easily validate this assumption manually and then use that information to extract a slice of all the entries that represent non-countries entities.<br/>\n",
    "\n",
    "**8.** In the next cell filter out, from **wdi**, the rows in which 'Country Name' represents an aggregate of countries.<br/>"
   ]
  },
  {
   "cell_type": "code",
   "execution_count": 13,
   "metadata": {
    "ExecuteTime": {
     "end_time": "2023-10-08T16:11:37.491163Z",
     "start_time": "2023-10-08T16:11:37.382726Z"
    }
   },
   "outputs": [],
   "source": [
    "# There to make the code more readable, we're using the tilde operator to \"negate\" the `isin` function.\n",
    "# We could also simply use the isin with the country names, but it will require to create another variable that isn't necessary\n",
    "wdi = wdi[~wdi['Country Name'].isin(non_country_names)]"
   ]
  },
  {
   "cell_type": "markdown",
   "metadata": {},
   "source": [
    "**9.** Check that the top of the **wdi** dataframe now only has countries and not aggregates of countries."
   ]
  },
  {
   "cell_type": "code",
   "execution_count": 14,
   "metadata": {
    "ExecuteTime": {
     "end_time": "2023-10-08T16:11:43.224196Z",
     "start_time": "2023-10-08T16:11:43.205733Z"
    }
   },
   "outputs": [
    {
     "data": {
      "text/html": [
       "<div>\n",
       "<style scoped>\n",
       "    .dataframe tbody tr th:only-of-type {\n",
       "        vertical-align: middle;\n",
       "    }\n",
       "\n",
       "    .dataframe tbody tr th {\n",
       "        vertical-align: top;\n",
       "    }\n",
       "\n",
       "    .dataframe thead th {\n",
       "        text-align: right;\n",
       "    }\n",
       "</style>\n",
       "<table border=\"1\" class=\"dataframe\">\n",
       "  <thead>\n",
       "    <tr style=\"text-align: right;\">\n",
       "      <th></th>\n",
       "      <th>Country Name</th>\n",
       "      <th>Country Code</th>\n",
       "      <th>Indicator Name</th>\n",
       "      <th>Indicator Code</th>\n",
       "      <th>1960</th>\n",
       "      <th>1961</th>\n",
       "      <th>1962</th>\n",
       "      <th>1963</th>\n",
       "      <th>1964</th>\n",
       "      <th>1965</th>\n",
       "      <th>...</th>\n",
       "      <th>2013</th>\n",
       "      <th>2014</th>\n",
       "      <th>2015</th>\n",
       "      <th>2016</th>\n",
       "      <th>2017</th>\n",
       "      <th>2018</th>\n",
       "      <th>2019</th>\n",
       "      <th>2020</th>\n",
       "      <th>2021</th>\n",
       "      <th>Unnamed: 66</th>\n",
       "    </tr>\n",
       "  </thead>\n",
       "  <tbody>\n",
       "    <tr>\n",
       "      <th>70658</th>\n",
       "      <td>Afghanistan</td>\n",
       "      <td>AFG</td>\n",
       "      <td>Access to clean fuels and technologies for coo...</td>\n",
       "      <td>EG.CFT.ACCS.ZS</td>\n",
       "      <td>NaN</td>\n",
       "      <td>NaN</td>\n",
       "      <td>NaN</td>\n",
       "      <td>NaN</td>\n",
       "      <td>NaN</td>\n",
       "      <td>NaN</td>\n",
       "      <td>...</td>\n",
       "      <td>24.800000</td>\n",
       "      <td>26.100000</td>\n",
       "      <td>27.400000</td>\n",
       "      <td>28.600000</td>\n",
       "      <td>29.700000</td>\n",
       "      <td>30.900000</td>\n",
       "      <td>31.900000</td>\n",
       "      <td>33.200000</td>\n",
       "      <td>NaN</td>\n",
       "      <td>NaN</td>\n",
       "    </tr>\n",
       "    <tr>\n",
       "      <th>70659</th>\n",
       "      <td>Afghanistan</td>\n",
       "      <td>AFG</td>\n",
       "      <td>Access to clean fuels and technologies for coo...</td>\n",
       "      <td>EG.CFT.ACCS.RU.ZS</td>\n",
       "      <td>NaN</td>\n",
       "      <td>NaN</td>\n",
       "      <td>NaN</td>\n",
       "      <td>NaN</td>\n",
       "      <td>NaN</td>\n",
       "      <td>NaN</td>\n",
       "      <td>...</td>\n",
       "      <td>9.100000</td>\n",
       "      <td>10.200000</td>\n",
       "      <td>11.100000</td>\n",
       "      <td>12.200000</td>\n",
       "      <td>13.000000</td>\n",
       "      <td>13.850000</td>\n",
       "      <td>15.100000</td>\n",
       "      <td>15.900000</td>\n",
       "      <td>NaN</td>\n",
       "      <td>NaN</td>\n",
       "    </tr>\n",
       "    <tr>\n",
       "      <th>70660</th>\n",
       "      <td>Afghanistan</td>\n",
       "      <td>AFG</td>\n",
       "      <td>Access to clean fuels and technologies for coo...</td>\n",
       "      <td>EG.CFT.ACCS.UR.ZS</td>\n",
       "      <td>NaN</td>\n",
       "      <td>NaN</td>\n",
       "      <td>NaN</td>\n",
       "      <td>NaN</td>\n",
       "      <td>NaN</td>\n",
       "      <td>NaN</td>\n",
       "      <td>...</td>\n",
       "      <td>75.700000</td>\n",
       "      <td>77.600000</td>\n",
       "      <td>78.800000</td>\n",
       "      <td>79.700000</td>\n",
       "      <td>80.900000</td>\n",
       "      <td>81.600000</td>\n",
       "      <td>82.300000</td>\n",
       "      <td>82.600000</td>\n",
       "      <td>NaN</td>\n",
       "      <td>NaN</td>\n",
       "    </tr>\n",
       "    <tr>\n",
       "      <th>70661</th>\n",
       "      <td>Afghanistan</td>\n",
       "      <td>AFG</td>\n",
       "      <td>Access to electricity (% of population)</td>\n",
       "      <td>EG.ELC.ACCS.ZS</td>\n",
       "      <td>NaN</td>\n",
       "      <td>NaN</td>\n",
       "      <td>NaN</td>\n",
       "      <td>NaN</td>\n",
       "      <td>NaN</td>\n",
       "      <td>NaN</td>\n",
       "      <td>...</td>\n",
       "      <td>68.290649</td>\n",
       "      <td>89.500000</td>\n",
       "      <td>71.500000</td>\n",
       "      <td>97.699997</td>\n",
       "      <td>97.699997</td>\n",
       "      <td>96.616135</td>\n",
       "      <td>97.699997</td>\n",
       "      <td>97.699997</td>\n",
       "      <td>NaN</td>\n",
       "      <td>NaN</td>\n",
       "    </tr>\n",
       "    <tr>\n",
       "      <th>70662</th>\n",
       "      <td>Afghanistan</td>\n",
       "      <td>AFG</td>\n",
       "      <td>Access to electricity, rural (% of rural popul...</td>\n",
       "      <td>EG.ELC.ACCS.RU.ZS</td>\n",
       "      <td>NaN</td>\n",
       "      <td>NaN</td>\n",
       "      <td>NaN</td>\n",
       "      <td>NaN</td>\n",
       "      <td>NaN</td>\n",
       "      <td>NaN</td>\n",
       "      <td>...</td>\n",
       "      <td>60.566135</td>\n",
       "      <td>86.500511</td>\n",
       "      <td>64.573357</td>\n",
       "      <td>97.099358</td>\n",
       "      <td>97.091972</td>\n",
       "      <td>95.586174</td>\n",
       "      <td>97.075630</td>\n",
       "      <td>97.066711</td>\n",
       "      <td>NaN</td>\n",
       "      <td>NaN</td>\n",
       "    </tr>\n",
       "  </tbody>\n",
       "</table>\n",
       "<p>5 rows × 67 columns</p>\n",
       "</div>"
      ],
      "text/plain": [
       "      Country Name Country Code  \\\n",
       "70658  Afghanistan          AFG   \n",
       "70659  Afghanistan          AFG   \n",
       "70660  Afghanistan          AFG   \n",
       "70661  Afghanistan          AFG   \n",
       "70662  Afghanistan          AFG   \n",
       "\n",
       "                                          Indicator Name     Indicator Code  \\\n",
       "70658  Access to clean fuels and technologies for coo...     EG.CFT.ACCS.ZS   \n",
       "70659  Access to clean fuels and technologies for coo...  EG.CFT.ACCS.RU.ZS   \n",
       "70660  Access to clean fuels and technologies for coo...  EG.CFT.ACCS.UR.ZS   \n",
       "70661            Access to electricity (% of population)     EG.ELC.ACCS.ZS   \n",
       "70662  Access to electricity, rural (% of rural popul...  EG.ELC.ACCS.RU.ZS   \n",
       "\n",
       "       1960  1961  1962  1963  1964  1965  ...       2013       2014  \\\n",
       "70658   NaN   NaN   NaN   NaN   NaN   NaN  ...  24.800000  26.100000   \n",
       "70659   NaN   NaN   NaN   NaN   NaN   NaN  ...   9.100000  10.200000   \n",
       "70660   NaN   NaN   NaN   NaN   NaN   NaN  ...  75.700000  77.600000   \n",
       "70661   NaN   NaN   NaN   NaN   NaN   NaN  ...  68.290649  89.500000   \n",
       "70662   NaN   NaN   NaN   NaN   NaN   NaN  ...  60.566135  86.500511   \n",
       "\n",
       "            2015       2016       2017       2018       2019       2020  2021  \\\n",
       "70658  27.400000  28.600000  29.700000  30.900000  31.900000  33.200000   NaN   \n",
       "70659  11.100000  12.200000  13.000000  13.850000  15.100000  15.900000   NaN   \n",
       "70660  78.800000  79.700000  80.900000  81.600000  82.300000  82.600000   NaN   \n",
       "70661  71.500000  97.699997  97.699997  96.616135  97.699997  97.699997   NaN   \n",
       "70662  64.573357  97.099358  97.091972  95.586174  97.075630  97.066711   NaN   \n",
       "\n",
       "       Unnamed: 66  \n",
       "70658          NaN  \n",
       "70659          NaN  \n",
       "70660          NaN  \n",
       "70661          NaN  \n",
       "70662          NaN  \n",
       "\n",
       "[5 rows x 67 columns]"
      ]
     },
     "execution_count": 14,
     "metadata": {},
     "output_type": "execute_result"
    }
   ],
   "source": [
    "wdi.head()"
   ]
  },
  {
   "cell_type": "markdown",
   "metadata": {},
   "source": [
    "**10.** Reset the indexes of **wdi**. Perform this operation inplace."
   ]
  },
  {
   "cell_type": "code",
   "execution_count": 15,
   "metadata": {
    "ExecuteTime": {
     "end_time": "2023-10-08T16:14:17.755464Z",
     "start_time": "2023-10-08T16:14:17.670954Z"
    }
   },
   "outputs": [],
   "source": [
    "wdi.reset_index(inplace=True)"
   ]
  },
  {
   "cell_type": "markdown",
   "metadata": {},
   "source": [
    "**11.** Show that the indexes have been reseted."
   ]
  },
  {
   "cell_type": "code",
   "execution_count": 16,
   "metadata": {
    "ExecuteTime": {
     "end_time": "2023-10-08T16:15:18.774983Z",
     "start_time": "2023-10-08T16:15:18.760650Z"
    },
    "scrolled": true
   },
   "outputs": [
    {
     "name": "stdout",
     "output_type": "stream",
     "text": [
      "RangeIndex(start=0, stop=312914, step=1)\n"
     ]
    },
    {
     "data": {
      "text/html": [
       "<div>\n",
       "<style scoped>\n",
       "    .dataframe tbody tr th:only-of-type {\n",
       "        vertical-align: middle;\n",
       "    }\n",
       "\n",
       "    .dataframe tbody tr th {\n",
       "        vertical-align: top;\n",
       "    }\n",
       "\n",
       "    .dataframe thead th {\n",
       "        text-align: right;\n",
       "    }\n",
       "</style>\n",
       "<table border=\"1\" class=\"dataframe\">\n",
       "  <thead>\n",
       "    <tr style=\"text-align: right;\">\n",
       "      <th></th>\n",
       "      <th>index</th>\n",
       "      <th>Country Name</th>\n",
       "      <th>Country Code</th>\n",
       "      <th>Indicator Name</th>\n",
       "      <th>Indicator Code</th>\n",
       "      <th>1960</th>\n",
       "      <th>1961</th>\n",
       "      <th>1962</th>\n",
       "      <th>1963</th>\n",
       "      <th>1964</th>\n",
       "      <th>...</th>\n",
       "      <th>2013</th>\n",
       "      <th>2014</th>\n",
       "      <th>2015</th>\n",
       "      <th>2016</th>\n",
       "      <th>2017</th>\n",
       "      <th>2018</th>\n",
       "      <th>2019</th>\n",
       "      <th>2020</th>\n",
       "      <th>2021</th>\n",
       "      <th>Unnamed: 66</th>\n",
       "    </tr>\n",
       "  </thead>\n",
       "  <tbody>\n",
       "    <tr>\n",
       "      <th>0</th>\n",
       "      <td>70658</td>\n",
       "      <td>Afghanistan</td>\n",
       "      <td>AFG</td>\n",
       "      <td>Access to clean fuels and technologies for coo...</td>\n",
       "      <td>EG.CFT.ACCS.ZS</td>\n",
       "      <td>NaN</td>\n",
       "      <td>NaN</td>\n",
       "      <td>NaN</td>\n",
       "      <td>NaN</td>\n",
       "      <td>NaN</td>\n",
       "      <td>...</td>\n",
       "      <td>24.800000</td>\n",
       "      <td>26.100000</td>\n",
       "      <td>27.400000</td>\n",
       "      <td>28.600000</td>\n",
       "      <td>29.700000</td>\n",
       "      <td>30.900000</td>\n",
       "      <td>31.900000</td>\n",
       "      <td>33.200000</td>\n",
       "      <td>NaN</td>\n",
       "      <td>NaN</td>\n",
       "    </tr>\n",
       "    <tr>\n",
       "      <th>1</th>\n",
       "      <td>70659</td>\n",
       "      <td>Afghanistan</td>\n",
       "      <td>AFG</td>\n",
       "      <td>Access to clean fuels and technologies for coo...</td>\n",
       "      <td>EG.CFT.ACCS.RU.ZS</td>\n",
       "      <td>NaN</td>\n",
       "      <td>NaN</td>\n",
       "      <td>NaN</td>\n",
       "      <td>NaN</td>\n",
       "      <td>NaN</td>\n",
       "      <td>...</td>\n",
       "      <td>9.100000</td>\n",
       "      <td>10.200000</td>\n",
       "      <td>11.100000</td>\n",
       "      <td>12.200000</td>\n",
       "      <td>13.000000</td>\n",
       "      <td>13.850000</td>\n",
       "      <td>15.100000</td>\n",
       "      <td>15.900000</td>\n",
       "      <td>NaN</td>\n",
       "      <td>NaN</td>\n",
       "    </tr>\n",
       "    <tr>\n",
       "      <th>2</th>\n",
       "      <td>70660</td>\n",
       "      <td>Afghanistan</td>\n",
       "      <td>AFG</td>\n",
       "      <td>Access to clean fuels and technologies for coo...</td>\n",
       "      <td>EG.CFT.ACCS.UR.ZS</td>\n",
       "      <td>NaN</td>\n",
       "      <td>NaN</td>\n",
       "      <td>NaN</td>\n",
       "      <td>NaN</td>\n",
       "      <td>NaN</td>\n",
       "      <td>...</td>\n",
       "      <td>75.700000</td>\n",
       "      <td>77.600000</td>\n",
       "      <td>78.800000</td>\n",
       "      <td>79.700000</td>\n",
       "      <td>80.900000</td>\n",
       "      <td>81.600000</td>\n",
       "      <td>82.300000</td>\n",
       "      <td>82.600000</td>\n",
       "      <td>NaN</td>\n",
       "      <td>NaN</td>\n",
       "    </tr>\n",
       "    <tr>\n",
       "      <th>3</th>\n",
       "      <td>70661</td>\n",
       "      <td>Afghanistan</td>\n",
       "      <td>AFG</td>\n",
       "      <td>Access to electricity (% of population)</td>\n",
       "      <td>EG.ELC.ACCS.ZS</td>\n",
       "      <td>NaN</td>\n",
       "      <td>NaN</td>\n",
       "      <td>NaN</td>\n",
       "      <td>NaN</td>\n",
       "      <td>NaN</td>\n",
       "      <td>...</td>\n",
       "      <td>68.290649</td>\n",
       "      <td>89.500000</td>\n",
       "      <td>71.500000</td>\n",
       "      <td>97.699997</td>\n",
       "      <td>97.699997</td>\n",
       "      <td>96.616135</td>\n",
       "      <td>97.699997</td>\n",
       "      <td>97.699997</td>\n",
       "      <td>NaN</td>\n",
       "      <td>NaN</td>\n",
       "    </tr>\n",
       "    <tr>\n",
       "      <th>4</th>\n",
       "      <td>70662</td>\n",
       "      <td>Afghanistan</td>\n",
       "      <td>AFG</td>\n",
       "      <td>Access to electricity, rural (% of rural popul...</td>\n",
       "      <td>EG.ELC.ACCS.RU.ZS</td>\n",
       "      <td>NaN</td>\n",
       "      <td>NaN</td>\n",
       "      <td>NaN</td>\n",
       "      <td>NaN</td>\n",
       "      <td>NaN</td>\n",
       "      <td>...</td>\n",
       "      <td>60.566135</td>\n",
       "      <td>86.500511</td>\n",
       "      <td>64.573357</td>\n",
       "      <td>97.099358</td>\n",
       "      <td>97.091972</td>\n",
       "      <td>95.586174</td>\n",
       "      <td>97.075630</td>\n",
       "      <td>97.066711</td>\n",
       "      <td>NaN</td>\n",
       "      <td>NaN</td>\n",
       "    </tr>\n",
       "  </tbody>\n",
       "</table>\n",
       "<p>5 rows × 68 columns</p>\n",
       "</div>"
      ],
      "text/plain": [
       "   index Country Name Country Code  \\\n",
       "0  70658  Afghanistan          AFG   \n",
       "1  70659  Afghanistan          AFG   \n",
       "2  70660  Afghanistan          AFG   \n",
       "3  70661  Afghanistan          AFG   \n",
       "4  70662  Afghanistan          AFG   \n",
       "\n",
       "                                      Indicator Name     Indicator Code  1960  \\\n",
       "0  Access to clean fuels and technologies for coo...     EG.CFT.ACCS.ZS   NaN   \n",
       "1  Access to clean fuels and technologies for coo...  EG.CFT.ACCS.RU.ZS   NaN   \n",
       "2  Access to clean fuels and technologies for coo...  EG.CFT.ACCS.UR.ZS   NaN   \n",
       "3            Access to electricity (% of population)     EG.ELC.ACCS.ZS   NaN   \n",
       "4  Access to electricity, rural (% of rural popul...  EG.ELC.ACCS.RU.ZS   NaN   \n",
       "\n",
       "   1961  1962  1963  1964  ...       2013       2014       2015       2016  \\\n",
       "0   NaN   NaN   NaN   NaN  ...  24.800000  26.100000  27.400000  28.600000   \n",
       "1   NaN   NaN   NaN   NaN  ...   9.100000  10.200000  11.100000  12.200000   \n",
       "2   NaN   NaN   NaN   NaN  ...  75.700000  77.600000  78.800000  79.700000   \n",
       "3   NaN   NaN   NaN   NaN  ...  68.290649  89.500000  71.500000  97.699997   \n",
       "4   NaN   NaN   NaN   NaN  ...  60.566135  86.500511  64.573357  97.099358   \n",
       "\n",
       "        2017       2018       2019       2020  2021  Unnamed: 66  \n",
       "0  29.700000  30.900000  31.900000  33.200000   NaN          NaN  \n",
       "1  13.000000  13.850000  15.100000  15.900000   NaN          NaN  \n",
       "2  80.900000  81.600000  82.300000  82.600000   NaN          NaN  \n",
       "3  97.699997  96.616135  97.699997  97.699997   NaN          NaN  \n",
       "4  97.091972  95.586174  97.075630  97.066711   NaN          NaN  \n",
       "\n",
       "[5 rows x 68 columns]"
      ]
     },
     "execution_count": 16,
     "metadata": {},
     "output_type": "execute_result"
    }
   ],
   "source": [
    "print(wdi.index)\n",
    "wdi.head()"
   ]
  },
  {
   "cell_type": "markdown",
   "metadata": {},
   "source": [
    "*Note that when reseting the index, pandas appends a new column at the begining of the data frame, which holds the previous index values.*"
   ]
  },
  {
   "cell_type": "markdown",
   "metadata": {},
   "source": [
    "## Indicator Codes and Indicator Name\n",
    "\n",
    "**12.** Select the columns 'Indicator Name' and 'Indicator Code'.Then, delete all the duplicates, and print the top 5 and bottom 5 values. <br/>\n",
    "\n",
    "*Note: You should be able to do everything in a single line of code for the top 5 values and a single line for the bottom 5 values.*"
   ]
  },
  {
   "cell_type": "code",
   "execution_count": 17,
   "metadata": {
    "ExecuteTime": {
     "end_time": "2023-10-08T16:54:21.655143Z",
     "start_time": "2023-10-08T16:54:21.576280Z"
    },
    "scrolled": true
   },
   "outputs": [
    {
     "name": "stdout",
     "output_type": "stream",
     "text": [
      "                                      Indicator Name     Indicator Code\n",
      "0  Access to clean fuels and technologies for coo...     EG.CFT.ACCS.ZS\n",
      "1  Access to clean fuels and technologies for coo...  EG.CFT.ACCS.RU.ZS\n",
      "2  Access to clean fuels and technologies for coo...  EG.CFT.ACCS.UR.ZS\n",
      "3            Access to electricity (% of population)     EG.ELC.ACCS.ZS\n",
      "4  Access to electricity, rural (% of rural popul...  EG.ELC.ACCS.RU.ZS\n",
      "                                         Indicator Name     Indicator Code\n",
      "1437  Women who believe a husband is justified in be...     SG.VAW.REFU.ZS\n",
      "1438  Women who were first married by age 15 (% of w...  SP.M15.2024.FE.ZS\n",
      "1439  Women who were first married by age 18 (% of w...  SP.M18.2024.FE.ZS\n",
      "1440  Women's share of population ages 15+ living wi...  SH.DYN.AIDS.FE.ZS\n",
      "1441  Young people (ages 15-24) newly infected with HIV     SH.HIV.INCD.YG\n"
     ]
    }
   ],
   "source": [
    "indicators_without_duplicates = wdi[['Indicator Name', 'Indicator Code']].drop_duplicates() \n",
    "print(indicators_without_duplicates.head(5))\n",
    "print(indicators_without_duplicates.tail(5))"
   ]
  },
  {
   "cell_type": "markdown",
   "metadata": {},
   "source": [
    "**13.** Create a new DataFrame named **indicators** made up of the columns 'Indicator Name' and 'Indicator Code'. Then, delete all the duplicated entries. Finally, set the column 'Indicator Code' as the index of **indicators**. \n",
    "\n",
    "*Note: Try to perform all these steps in a single line of code.*"
   ]
  },
  {
   "cell_type": "code",
   "execution_count": 18,
   "metadata": {},
   "outputs": [],
   "source": [
    "indicators = indicators_without_duplicates.set_index(\"Indicator Code\")\n"
   ]
  },
  {
   "cell_type": "markdown",
   "metadata": {},
   "source": [
    "**The 'indicators' DataFrame can operate now as a dictionary. <br/>**\n",
    "By passing an 'Indicator Code' (key) it returns the associated 'Indicator Name' (value).<br/>\n",
    "\n",
    "**14.** Using the **indicators** DataFrame, find the 'Indicator Code' associated with the following observables:\n",
    "1. 'Population', find the 'Indicator Code' of the total population in a country;\n",
    "2. 'GDP', find the GDP measured in current US Dollars;\n",
    "3. 'GINI index'\n",
    "\n",
    "*Hint: You can use the method STRING.str.contains('substring') to check whether a string contains a substring.*"
   ]
  },
  {
   "cell_type": "code",
   "execution_count": 19,
   "metadata": {
    "ExecuteTime": {
     "end_time": "2023-10-08T17:07:09.979826Z",
     "start_time": "2023-10-08T17:07:09.955108Z"
    }
   },
   "outputs": [
    {
     "data": {
      "text/plain": [
       "Indicator Name    Population, total\n",
       "Name: SP.POP.TOTL, dtype: object"
      ]
     },
     "execution_count": 19,
     "metadata": {},
     "output_type": "execute_result"
    }
   ],
   "source": [
    "# The code below will return the indicators that contains Population in the name.\n",
    "# Filtering it You can find out the 'SP.POP.TOTL' with the value name 'Population, total'\n",
    "indicators[indicators['Indicator Name'].str.contains(\"Population\")]\n",
    "\n",
    "indicators.loc['SP.POP.TOTL']"
   ]
  },
  {
   "cell_type": "code",
   "execution_count": 20,
   "metadata": {
    "ExecuteTime": {
     "end_time": "2023-10-08T17:05:50.400952Z",
     "start_time": "2023-10-08T17:05:50.376120Z"
    }
   },
   "outputs": [
    {
     "data": {
      "text/plain": [
       "Indicator Name    GDP per capita (current US$)\n",
       "Name: NY.GDP.PCAP.CD, dtype: object"
      ]
     },
     "execution_count": 20,
     "metadata": {},
     "output_type": "execute_result"
    }
   ],
   "source": [
    "# The code below will return the indicators that contains GDP in the name.\n",
    "# Filtering it You can find out the 'NY.GDP.PCAP.CD' with the value name 'GDP per capita (current US$)'\n",
    "indicators[indicators['Indicator Name'].str.contains(\"GDP\")]\n",
    "\n",
    "indicators.loc['NY.GDP.PCAP.CD']"
   ]
  },
  {
   "cell_type": "code",
   "execution_count": 21,
   "metadata": {
    "ExecuteTime": {
     "end_time": "2023-10-08T17:11:55.461301Z",
     "start_time": "2023-10-08T17:11:55.434380Z"
    }
   },
   "outputs": [
    {
     "data": {
      "text/plain": [
       "Indicator Name    Gini index\n",
       "Name: SI.POV.GINI, dtype: object"
      ]
     },
     "execution_count": 21,
     "metadata": {},
     "output_type": "execute_result"
    }
   ],
   "source": [
    "# The code below will return the indicators that contains 'Gini index' in the name.\n",
    "# Filtering it You can find out the 'SI.POV.GINI' with the value name 'Gini index'\n",
    "indicators[indicators['Indicator Name'].str.contains(\"Gini index\")]\n",
    "\n",
    "indicators.loc['SI.POV.GINI']"
   ]
  },
  {
   "cell_type": "markdown",
   "metadata": {},
   "source": [
    "## Extracting and Cleaning Data from WDI and PWT\n",
    "\n",
    "**15.** From **wdi** extract the columns 'Indicator Code', 'Country Code', and '2012'.\n",
    "Save the output in variable **wdi_sample**.\n",
    "\n",
    "*Note: You should be able to perfom all operations in a single line of code. <br/>*"
   ]
  },
  {
   "cell_type": "code",
   "execution_count": 22,
   "metadata": {},
   "outputs": [
    {
     "name": "stdout",
     "output_type": "stream",
     "text": [
      "           Indicator Code Country Code          2012\n",
      "0          EG.CFT.ACCS.ZS          AFG     23.000000\n",
      "1       EG.CFT.ACCS.RU.ZS          AFG      8.200000\n",
      "2       EG.CFT.ACCS.UR.ZS          AFG     74.400000\n",
      "3          EG.ELC.ACCS.ZS          AFG     69.099998\n",
      "4       EG.ELC.ACCS.RU.ZS          AFG     60.849155\n",
      "...                   ...          ...           ...\n",
      "312909     SG.VAW.REFU.ZS          ZWE           NaN\n",
      "312910  SP.M15.2024.FE.ZS          ZWE           NaN\n",
      "312911  SP.M18.2024.FE.ZS          ZWE           NaN\n",
      "312912  SH.DYN.AIDS.FE.ZS          ZWE     58.900000\n",
      "312913     SH.HIV.INCD.YG          ZWE  22000.000000\n",
      "\n",
      "[312914 rows x 3 columns]\n"
     ]
    }
   ],
   "source": [
    "#Fro getting each column you just name it.\n",
    "wdi_sample = wdi[['Indicator Code','Country Code','2012']]\n",
    "print(wdi_sample)"
   ]
  },
  {
   "cell_type": "markdown",
   "metadata": {},
   "source": [
    "**16.** Select from **wdi_sample** the lines associated with all the Indicator Codes that you found above, which concern the data of the 'GINI index', 'GDP', and 'Population total'."
   ]
  },
  {
   "cell_type": "code",
   "execution_count": 23,
   "metadata": {},
   "outputs": [
    {
     "name": "stdout",
     "output_type": "stream",
     "text": [
      "        Indicator Code Country Code          2012\n",
      "474     NY.GDP.PCAP.CD          AFG  6.631411e+02\n",
      "491        SI.POV.GINI          AFG           NaN\n",
      "1062       SP.POP.TOTL          AFG  3.046648e+07\n",
      "1916    NY.GDP.PCAP.CD          ALB  4.247630e+03\n",
      "1933       SI.POV.GINI          ALB  2.900000e+01\n",
      "...                ...          ...           ...\n",
      "310521     SI.POV.GINI          ZMB           NaN\n",
      "311092     SP.POP.TOTL          ZMB  1.474466e+07\n",
      "311946  NY.GDP.PCAP.CD          ZWE  1.290194e+03\n",
      "311963     SI.POV.GINI          ZWE           NaN\n",
      "312534     SP.POP.TOTL          ZWE  1.326533e+07\n",
      "\n",
      "[651 rows x 3 columns]\n"
     ]
    }
   ],
   "source": [
    "#By using isin verifies if they are in the column Indicator code.\n",
    "wdi_sample = wdi_sample.loc[wdi['Indicator Code'].isin(['SP.POP.TOTL','NY.GDP.PCAP.CD','SI.POV.GINI'])]\n",
    "print(wdi_sample)"
   ]
  },
  {
   "cell_type": "markdown",
   "metadata": {},
   "source": [
    "**17.** Create a pivot table, in which **values** are the column '2012', the **index** is the 'Country Code', and the **columns** are the Indicator Codes. <br/>\n",
    "\n",
    "*Hint: Pandas has a very useful method to create pivot tables.*"
   ]
  },
  {
   "cell_type": "code",
   "execution_count": 24,
   "metadata": {
    "scrolled": true
   },
   "outputs": [
    {
     "name": "stdout",
     "output_type": "stream",
     "text": [
      "Indicator Code  NY.GDP.PCAP.CD  SI.POV.GINI  SP.POP.TOTL\n",
      "Country Code                                            \n",
      "ABW               25609.955724          NaN     102112.0\n",
      "AFG                 663.141053          NaN   30466479.0\n",
      "AGO                4962.552072          NaN   25188292.0\n",
      "ALB                4247.630047         29.0    2900401.0\n",
      "AND               44904.580043          NaN      71013.0\n",
      "...                        ...          ...          ...\n",
      "XKX                3410.859780         29.0    1807106.0\n",
      "YEM                1349.990295          NaN   26223391.0\n",
      "ZAF                8173.869138          NaN   53145033.0\n",
      "ZMB                1729.647471          NaN   14744658.0\n",
      "ZWE                1290.193956          NaN   13265331.0\n",
      "\n",
      "[217 rows x 3 columns]\n"
     ]
    }
   ],
   "source": [
    "#Using pivot table to create wdi sample\n",
    "wdi_sample = pd.pivot_table(wdi_sample, values='2012', index = 'Country Code', columns = 'Indicator Code')\n",
    "print(wdi_sample)"
   ]
  },
  {
   "cell_type": "markdown",
   "metadata": {},
   "source": [
    "**18.** Rename the column names of **wdi_sample** to 'Population', 'GDP', and 'GINI', accordingly."
   ]
  },
  {
   "cell_type": "code",
   "execution_count": 25,
   "metadata": {},
   "outputs": [
    {
     "name": "stdout",
     "output_type": "stream",
     "text": [
      "Indicator Code           GDP  GINI  Population\n",
      "Country Code                                  \n",
      "ABW             25609.955724   NaN    102112.0\n",
      "AFG               663.141053   NaN  30466479.0\n",
      "AGO              4962.552072   NaN  25188292.0\n",
      "ALB              4247.630047  29.0   2900401.0\n",
      "AND             44904.580043   NaN     71013.0\n",
      "...                      ...   ...         ...\n",
      "XKX              3410.859780  29.0   1807106.0\n",
      "YEM              1349.990295   NaN  26223391.0\n",
      "ZAF              8173.869138   NaN  53145033.0\n",
      "ZMB              1729.647471   NaN  14744658.0\n",
      "ZWE              1290.193956   NaN  13265331.0\n",
      "\n",
      "[217 rows x 3 columns]\n"
     ]
    }
   ],
   "source": [
    "#Rename the column first the name then : then the new name.\n",
    "wdi_sample = wdi_sample.rename(columns={'SP.POP.TOTL':'Population','NY.GDP.PCAP.CD': \"GDP\", 'SI.POV.GINI': \"GINI\"})\n",
    "print(wdi_sample)"
   ]
  },
  {
   "cell_type": "markdown",
   "metadata": {},
   "source": [
    "**19.** From **pwt** select only the values of the year 2012. <br/>\n",
    "Then, extract the columns 'countrycode' and 'hc' into a new variable **pwt_sample**. <br/>\n",
    "Rename 'countrycode' to 'Country Code', so that it matches the same column in **wdi_sample**<br/>\n",
    "\n",
    "*Note: in this case 'hc' stands for the Human Capital Index.<br/>*"
   ]
  },
  {
   "cell_type": "code",
   "execution_count": 85,
   "metadata": {},
   "outputs": [],
   "source": [
    "#Get the values that are in the year of 2012.\n",
    "pwt_2012 = pwt.loc[pwt['year']==2012]\n"
   ]
  },
  {
   "cell_type": "code",
   "execution_count": 27,
   "metadata": {},
   "outputs": [
    {
     "name": "stdout",
     "output_type": "stream",
     "text": [
      "      countrycode        hc\n",
      "62            ABW       NaN\n",
      "127           AGO  1.431295\n",
      "192           AIA       NaN\n",
      "257           ALB  2.917346\n",
      "322           ARE  2.723864\n",
      "...           ...       ...\n",
      "11567         VNM  2.532614\n",
      "11632         YEM  1.488720\n",
      "11697         ZAF  2.596012\n",
      "11762         ZMB  2.330032\n",
      "11827         ZWE  2.459828\n",
      "\n",
      "[182 rows x 2 columns]\n"
     ]
    }
   ],
   "source": [
    "#Do the same in just one line with the columns that was asked. country code and hc.\n",
    "pwt_sample = pwt.loc[pwt['year']==2012][['countrycode','hc']]\n",
    "print(pwt_sample)"
   ]
  },
  {
   "cell_type": "code",
   "execution_count": 28,
   "metadata": {},
   "outputs": [
    {
     "name": "stdout",
     "output_type": "stream",
     "text": [
      "      Country Code        hc\n",
      "62             ABW       NaN\n",
      "127            AGO  1.431295\n",
      "192            AIA       NaN\n",
      "257            ALB  2.917346\n",
      "322            ARE  2.723864\n",
      "...            ...       ...\n",
      "11567          VNM  2.532614\n",
      "11632          YEM  1.488720\n",
      "11697          ZAF  2.596012\n",
      "11762          ZMB  2.330032\n",
      "11827          ZWE  2.459828\n",
      "\n",
      "[182 rows x 2 columns]\n"
     ]
    }
   ],
   "source": [
    "#rename de country code to Country Code.\n",
    "pwt_sample = pwt_sample.rename(columns={'countrycode': 'Country Code'})\n",
    "print(pwt_sample)"
   ]
  },
  {
   "cell_type": "markdown",
   "metadata": {},
   "source": [
    "**20.** Finally, create a new dataframe named **data** that contains the columns from **wdi_sample** and **pwt_sample**, matched by 'Country Code'. \n",
    "\n",
    "*Hint: Use the method concat(), and make sure both dataframes have the same index ('Country Code').*"
   ]
  },
  {
   "cell_type": "code",
   "execution_count": 29,
   "metadata": {},
   "outputs": [
    {
     "name": "stdout",
     "output_type": "stream",
     "text": [
      "                       GDP  GINI  Population        hc\n",
      "Country Code                                          \n",
      "ABW           25609.955724   NaN    102112.0       NaN\n",
      "AGO            4962.552072   NaN  25188292.0  1.431295\n",
      "ALB            4247.630047  29.0   2900401.0  2.917346\n",
      "ARE           44386.786079   NaN   8664969.0  2.723864\n",
      "ARG           13082.664326  41.3  41733271.0  2.887292\n",
      "...                    ...   ...         ...       ...\n",
      "VNM            2190.232284  35.6  89301326.0  2.532614\n",
      "YEM            1349.990295   NaN  26223391.0  1.488720\n",
      "ZAF            8173.869138   NaN  53145033.0  2.596012\n",
      "ZMB            1729.647471   NaN  14744658.0  2.330032\n",
      "ZWE            1290.193956   NaN  13265331.0  2.459828\n",
      "\n",
      "[179 rows x 4 columns]\n"
     ]
    }
   ],
   "source": [
    "#concat the wdi_sample with pwt_sample. This was done as inner as we want the countries that both of them has and if its outer\n",
    "#then there will be country code that both dont have and a lot of NaN will be created.\n",
    "data = pd.concat([wdi_sample, pwt_sample.set_index(\"Country Code\")], axis=1, join = 'inner')\n",
    "print(data)"
   ]
  },
  {
   "cell_type": "code",
   "execution_count": null,
   "metadata": {},
   "outputs": [],
   "source": []
  },
  {
   "cell_type": "markdown",
   "metadata": {},
   "source": [
    "# <span style=\"color:brown\"> Part 3 - Analysing a Dataset </span>"
   ]
  },
  {
   "cell_type": "markdown",
   "metadata": {},
   "source": [
    "**21.** Perform the necessary manipulations to answer the following questions, unless otherwise stated you can use the country codes to represent the countries in your solutions:\n",
    "1. Which countries have a **population size of 10 million habitations +/- 1 million**?\n",
    "2. What is  the **average** and the **standard deviation in GDP** of countries listed in 1?\n",
    "3. What is  the **average** and the **standard deviation in the GDP per capita** of countries listed in 1?\n",
    "4. Consider the following classification of country size: <br/>\n",
    "    Tiny - population < 1 000 000 <br/>\n",
    "    Very Small - 1 000 000 <= population < 5 000 000 <br/>\n",
    "    Small - 5 000 000 <= population < 15 000 000 <br/>\n",
    "    Medium - 15 000 000 <= population < 30 000 000 <br/>\n",
    "    Large - 30 000 000 <= population < 100 000 000 <br/>\n",
    "    Huge - 100 000 000 <= population <br/>\n",
    "   What is  the **average** and the **standard deviation in the GDP per capita of countries in each size classification**?   \n",
    "5. Create a **function** that will take a dataframe and a column name, and **return** a series with binary values indicating whether the **values from the column are above the mean value of that column** (indicated with a value of 1 or 0 otherwise). If the value in the column is missing (NaN) the value in the series should also be missing (NaN). Test your function. *Hint:* search how to check if something is None so that we can return None. <br/>\n",
    "6. What is the **average GDP per capita of the countries after being grouped by size classification and whether or not the human capital is above average**? \n",
    "7. What is the **average GDP per capita of countries after being grouped by whether or not the human capital is above average and whether or not the gini coefficient is above average?**\n",
    "8. What is the **name of the country** that has the **highest GDP per capita + a Gini coefficient below average and a level of human capital below average**?\n",
    "9. What is the **name of the country** that has the **highest GDP per capita + a Gini coefficient below average for its size classification and a level of human capital below average for its size classification**?\n",
    "10. What is the **name of the country** that has the **largest % increase in GDP between 1980 and 2010?** *HINT: You will need to use the wdi dataframe.*\n",
    "\n",
    "Write the code necessary to answer each question in a single cell. <br/>\n",
    "Print the answer at the end of that cell."
   ]
  },
  {
   "cell_type": "code",
   "execution_count": 30,
   "metadata": {},
   "outputs": [
    {
     "name": "stdout",
     "output_type": "stream",
     "text": [
      "Countries that have a population ofr around 10 million habitants are: \n",
      "['AZE' 'BDI' 'BEN' 'BLR' 'BOL' 'CZE' 'DOM' 'GIN' 'HTI' 'HUN' 'PRT' 'RWA'\n",
      " 'SWE']\n"
     ]
    }
   ],
   "source": [
    "#1 Which countries have a population size of 10 million habitations +/- 1 million?\n",
    "\n",
    "#we use .loc to find the range that is between 11 million and 9 million.\n",
    "print('Countries that have a population ofr around 10 million habitants are: ')\n",
    "print(data.loc[(data['Population']<=11000000) & (data['Population']>=9000000)].index.values)\n",
    "#There will be a question that GDP per capita will be asked so we add a column with this information so we can access the \n",
    "#information in an easier way.\n",
    "#GDP per capita is the GDP/ the population of each country.\n",
    "#Aditionally, for question 2 and 3 we create a varibale of data_1million this is not to do the filter for each question but\n",
    "#only once.\n",
    "data['GDP per Capita'] = data['GDP']/data['Population']\n",
    "data_1million = data.loc[(data['Population']<=11000000) & (data['Population']>=9000000)]\n"
   ]
  },
  {
   "cell_type": "code",
   "execution_count": 31,
   "metadata": {},
   "outputs": [
    {
     "name": "stdout",
     "output_type": "stream",
     "text": [
      "The GDP Average:  10664.554938205787\n",
      "The GDP standard Deviation 15885.056206999949\n"
     ]
    }
   ],
   "source": [
    "#2 What is the average and the standard deviation in GDP of countries listed in 1?\n",
    "#This can be done with mean() and std()\n",
    "print('The GDP Average: ', data_1million['GDP'].mean())\n",
    "print('The GDP standard Deviation', data_1million['GDP'].std())"
   ]
  },
  {
   "cell_type": "code",
   "execution_count": 32,
   "metadata": {},
   "outputs": [
    {
     "name": "stdout",
     "output_type": "stream",
     "text": [
      "The GDP Average per capita:  0.001080014617778848\n",
      "The GDP standard Deviation per capita 0.001652611341134513\n"
     ]
    }
   ],
   "source": [
    "#3 What is the average and the standard deviation in the GDP per capita of countries listed in 1?\n",
    "#This is done the same way but with GDP per capita\n",
    "print('The GDP Average per capita: ', data_1million['GDP per Capita'].mean())\n",
    "print('The GDP standard Deviation per capita', data_1million['GDP per Capita'].std())"
   ]
  },
  {
   "cell_type": "code",
   "execution_count": 33,
   "metadata": {},
   "outputs": [
    {
     "name": "stdout",
     "output_type": "stream",
     "text": [
      "For Tiny the average and standard deviation respectably are: \n",
      "Average: 0.21871882613232194\n",
      "Std: 0.3801781819094944\n",
      "------------------------------\n",
      "For Very Small the average and standard deviation respectably are: \n",
      "Average: 0.006685656255483475\n",
      "Std: 0.009632704120302286\n",
      "------------------------------\n",
      "For Small the average and standard deviation respectably are: \n",
      "Average: 0.002463233076666756\n",
      "Std: 0.004032188577687307\n",
      "------------------------------\n",
      "For Medium the average and standard deviation respectably are: \n",
      "Average: 0.00043470371345033927\n",
      "Std: 0.0008207117755027077\n",
      "------------------------------\n",
      "For Large the average and standard deviation respectably are: \n",
      "Average: 0.00027300179497908775\n",
      "Std: 0.0003399218580847185\n",
      "------------------------------\n",
      "For Huge the average and standard deviation respectably are: \n",
      "Average: 7.788584216420299e-05\n",
      "Std: 0.00011521919852641186\n",
      "------------------------------\n"
     ]
    }
   ],
   "source": [
    "#4 Consider the following classification of country size:\n",
    "# - population < 1 000 000\n",
    "#Very Small - 1 000 000 <= population < 5 000 000\n",
    "#Small - 5 000 000 <= population < 15 000 000\n",
    "#Medium - 15 000 000 <= population < 30 000 000\n",
    "#Large - 30 000 000 <= population < 100 000 000\n",
    "#Huge - 100 000 000 <= population\n",
    "#What is the average and the standard deviation in the GDP per capita of countries in each size classification?\n",
    "\n",
    "#We create a variable that will have all the conditions that where stated above.\n",
    "\n",
    "conditions = [(data['Population'] < 1000000), \n",
    "              (data['Population'] >= 1000000) & (data['Population'] < 5000000),  \n",
    "              (data['Population'] >= 5000000) & (data['Population'] < 15000000), \n",
    "              (data['Population'] >= 15000000) & (data['Population'] < 30000000), \n",
    "              (data['Population'] >= 30000000) & (data['Population'] < 100000000), \n",
    "              (data['Population']>= 100000000)]\n",
    "\n",
    "#Then the results of each condition respectively. Soo for first condition, then the first value must be for that condition.\n",
    "\n",
    "values = ['Tiny','Very Small', 'Small', 'Medium', 'Large', 'Huge']\n",
    "\n",
    "#This function with np.select analyze the condition and the values and assigns it to our new column classification\n",
    "data['classification'] = np.select(conditions,values)\n",
    "\n",
    "#Print answer\n",
    "\n",
    "for i in values:\n",
    "    print('For', i, 'the average and standard deviation respectably are: ')\n",
    "    print('Average:', data['GDP per Capita'].loc[data['classification']== i].mean())\n",
    "    print('Std:',data['GDP per Capita'].loc[data['classification']== i].std())\n",
    "    print('------------------------------')\n",
    "\n"
   ]
  },
  {
   "cell_type": "code",
   "execution_count": 34,
   "metadata": {},
   "outputs": [],
   "source": [
    " #5 Create a function that will take a dataframe and a column name, and return a series with binary values indicating whether \n",
    "#the values from the column are above the mean value of that column (indicated with a value of 1 or 0 otherwise). \n",
    "#If the value in the column is missing (NaN) the value in the series should also be missing (NaN). Test your function. \n",
    "#Hint: search how to check if something is None so that we can return None.\n",
    "\n",
    "#This is function, inputs data fram and name column\n",
    "def binary_values(df, column):\n",
    "    #calculate the mean we are going to compare\n",
    "    average = df[column].mean()\n",
    "    #same as before create the 3 conditions, if is above average, below average or if is null.\n",
    "    conditions = [df[column]< average, df[column]> average, df[column].isnull()]\n",
    "    #The values that will be assign.\n",
    "    values = [0,1,np.nan]\n",
    "    #Create series and return.\n",
    "    series = pd.Series(np.select(conditions,values))\n",
    "    return series\n"
   ]
  },
  {
   "cell_type": "code",
   "execution_count": 91,
   "metadata": {},
   "outputs": [
    {
     "name": "stdout",
     "output_type": "stream",
     "text": [
      "classification  human capital above\n",
      "Huge            0.0                    0.000008\n",
      "                1.0                    0.000162\n",
      "Large           0.0                    0.000072\n",
      "                1.0                    0.000488\n",
      "Medium          0.0                    0.000058\n",
      "                1.0                    0.000960\n",
      "Small           0.0                    0.000333\n",
      "                1.0                    0.004880\n",
      "Tiny            0.0                    0.019217\n",
      "                1.0                    0.091679\n",
      "Very Small      0.0                    0.004747\n",
      "                1.0                    0.008662\n",
      "Name: GDP per Capita, dtype: float64\n",
      "human capital above  classification\n",
      "0.0                  Huge              0.000008\n",
      "                     Large             0.000072\n",
      "                     Medium            0.000058\n",
      "                     Small             0.000333\n",
      "                     Tiny              0.019217\n",
      "                     Very Small        0.004747\n",
      "1.0                  Huge              0.000162\n",
      "                     Large             0.000488\n",
      "                     Medium            0.000960\n",
      "                     Small             0.004880\n",
      "                     Tiny              0.091679\n",
      "                     Very Small        0.008662\n",
      "Name: GDP per Capita, dtype: float64\n",
      "classification\n",
      "Huge          0.000162\n",
      "Large         0.000488\n",
      "Medium        0.000960\n",
      "Small         0.004880\n",
      "Tiny          0.091679\n",
      "Very Small    0.008662\n",
      "Name: GDP per Capita, dtype: float64\n"
     ]
    }
   ],
   "source": [
    "#6 What is the average GDP per capita of the countries after being grouped by size classification\n",
    "# and whether or not the human capital is above average?\n",
    "\n",
    "#Using the function we create column for seen if human capita is abover average or not.\n",
    "data['human capital above'] =  binary_values(data, 'hc').array\n",
    "#group by size as per asked and by human capital and display the avergae of the GDP per capita. \n",
    "\n",
    "print(data.groupby(['classification', 'human capital above'])['GDP per Capita'].mean())\n",
    "\n",
    "#now if we want to seperate by human capital first we do:\n",
    "print(data.groupby([ 'human capital above','classification'])['GDP per Capita'].mean())\n",
    "#If we want only above human capital:\n",
    "print(data.groupby([ 'human capital above','classification'])['GDP per Capita'].mean()[1])\n",
    "#Change to 0 if is below\n"
   ]
  },
  {
   "cell_type": "code",
   "execution_count": 94,
   "metadata": {},
   "outputs": [
    {
     "name": "stdout",
     "output_type": "stream",
     "text": [
      "Gini above average  human capital above\n",
      "0.0                 0.0                    0.000410\n",
      "                    1.0                    0.015108\n",
      "1.0                 0.0                    0.000739\n",
      "                    1.0                    0.000988\n",
      "Name: GDP per Capita, dtype: float64\n",
      "human capital above  Gini above average\n",
      "0.0                  0.0                   0.000410\n",
      "                     1.0                   0.000739\n",
      "1.0                  0.0                   0.015108\n",
      "                     1.0                   0.000988\n",
      "Name: GDP per Capita, dtype: float64\n",
      "Gini above average\n",
      "0.0    0.015108\n",
      "1.0    0.000988\n",
      "Name: GDP per Capita, dtype: float64\n"
     ]
    }
   ],
   "source": [
    "#7What is the average GDP per capita of countries after being grouped by whether or not the human capital is above average\n",
    "#and whether or not the gini coefficient is above average?\n",
    "#In here we do the same as create new column for the Gini above average and use the function before.\n",
    "data['Gini above average'] =  binary_values(data, 'GINI').array\n",
    "#This is the same with only Gini above average.\n",
    "print(data.groupby(['Gini above average','human capital above'])['GDP per Capita'].mean())\n",
    "#This if we want to seperate by human capital above\n",
    "print(data.groupby(['human capital above', 'Gini above average'])['GDP per Capita'].mean())\n",
    "#If we want only above or below we add after the mean [] a 0 or 1 the following is 1 which is above.\n",
    "print(data.groupby(['human capital above', 'Gini above average'])['GDP per Capita'].mean()[1])\n",
    "#We can add another [] for the Gini"
   ]
  },
  {
   "cell_type": "code",
   "execution_count": 96,
   "metadata": {},
   "outputs": [
    {
     "name": "stdout",
     "output_type": "stream",
     "text": [
      "the country with most GDP per capita with Gini and Human Capital below average is: \n",
      "PRT\n"
     ]
    }
   ],
   "source": [
    "#8 What is the name of the country that has the highest GDP per capita + a Gini coefficient below \n",
    "#average and a level of human capital below average?\n",
    "\n",
    "#First we have the condition that is that the Gini Coeff is belowe average and the human capital below average\n",
    "#We do this with .loc then conditions.\n",
    "#then we get the column GDP per capita and get the max with .max()\n",
    "#In order to print the name of the coountr we create a .loc and find where this max GDP per capita matches.\n",
    "print('the country with most GDP per capita with Gini and Human Capital below average is: ')\n",
    "print(data.loc[data['GDP per Capita'] == data.loc[(data['human capital above']==0 )& (data['Gini above average'] == 0)]['GDP per Capita'].max()].index.values[0])\n",
    "\n"
   ]
  },
  {
   "cell_type": "code",
   "execution_count": 109,
   "metadata": {
    "scrolled": true
   },
   "outputs": [
    {
     "name": "stdout",
     "output_type": "stream",
     "text": [
      "Countries with highes GDP per capita based on size classification: \n",
      "classification\n",
      "Huge     NGA\n",
      "Large    IRQ\n",
      "Small    PRT\n",
      "Name: GDP per Capita, dtype: object\n",
      "classification\n",
      "Huge     0.000016\n",
      "Large    0.000190\n",
      "Small    0.001956\n",
      "Name: GDP per Capita, dtype: float64\n",
      "\n",
      "highest out of all PRT\n"
     ]
    }
   ],
   "source": [
    "#9 What is the name of the country that has the highest GDP per capita + a Gini coefficient \n",
    "# below average for its size classification and a level of human capital below average for its size classification?\n",
    "\n",
    "#First is the condition of .loc of human capital below average and Gini below average.\n",
    "#Then group By Classification so we divide them by size. \n",
    "#Chose GDP per capita to have the max size.\n",
    "#To get the max and show the index which is country use idxmax\n",
    "print('Countries with highes GDP per capita based on size classification: ')\n",
    "print(data.loc[(data['human capital above']==0 )& (data['Gini above average'] == 0)].groupby(['classification'])['GDP per Capita'].idxmax())\n",
    "print(data.loc[(data['human capital above']==0 )& (data['Gini above average'] == 0)].groupby(['classification'])['GDP per Capita'].max())\n",
    "#For the highest out of the three:\n",
    "print('')\n",
    "print('highest out of all',data.loc[data['GDP per Capita']==data.loc[(data['human capital above']==0 )& (data['Gini above average'] == 0)].groupby(['classification'])['GDP per Capita'].max().values.max()].index.values[0])\n"
   ]
  },
  {
   "cell_type": "code",
   "execution_count": 100,
   "metadata": {},
   "outputs": [
    {
     "name": "stdout",
     "output_type": "stream",
     "text": [
      "Country with highest percent increase Malaysia\n"
     ]
    }
   ],
   "source": [
    "#10  What is the name of the country that has the largest % increase in GDP between \n",
    "# 1980 and 2010? HINT: You will need to use the wdi dataframe.\n",
    "\n",
    "#First calculate the increase that is 2010-1980/1980\n",
    "#Then take out the infinite as those will be the highest value\n",
    "#Then find max. \n",
    "#Another way is sort and get the first value\n",
    "#wdi.sort_values(\"Percent increase\", ascending=False).iloc[0]\n",
    "wdi['Percent increase'] = (-wdi['1980']+wdi['2010'])/wdi['1980']\n",
    "wdi.iloc[wdi.loc[(wdi['Percent increase'] == np.inf)].index] = 0\n",
    "print('Country with highest percent increase', wdi.loc[wdi['Percent increase'] == wdi['Percent increase'].dropna().max()]['Country Name'].values[0])"
   ]
  },
  {
   "cell_type": "code",
   "execution_count": null,
   "metadata": {},
   "outputs": [],
   "source": []
  },
  {
   "cell_type": "code",
   "execution_count": null,
   "metadata": {},
   "outputs": [],
   "source": []
  }
 ],
 "metadata": {
  "kernelspec": {
   "display_name": "Python 3 (ipykernel)",
   "language": "python",
   "name": "python3"
  },
  "language_info": {
   "codemirror_mode": {
    "name": "ipython",
    "version": 3
   },
   "file_extension": ".py",
   "mimetype": "text/x-python",
   "name": "python",
   "nbconvert_exporter": "python",
   "pygments_lexer": "ipython3",
   "version": "3.11.4"
  }
 },
 "nbformat": 4,
 "nbformat_minor": 4
}
